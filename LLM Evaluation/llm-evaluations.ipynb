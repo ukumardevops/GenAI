{
 "cells": [
  {
   "cell_type": "markdown",
   "metadata": {},
   "source": [
    "### Evaluation of LLM Response"
   ]
  },
  {
   "cell_type": "code",
   "execution_count": 1,
   "metadata": {},
   "outputs": [],
   "source": [
    "import os\n",
    "from dotenv import load_dotenv\n",
    "from langchain_openai import ChatOpenAI\n",
    "from langchain.prompts import PromptTemplate"
   ]
  },
  {
   "cell_type": "code",
   "execution_count": 2,
   "metadata": {},
   "outputs": [],
   "source": [
    "load_dotenv()\n",
    "\n",
    "model_name = \"gpt-3.5-turbo-0125\"\n",
    "openai_api_key = os.environ[\"OPENAI_API_KEY\"]\n",
    "llm = ChatOpenAI(\n",
    "    model_name = model_name,\n",
    "    temperature = 0.1,\n",
    "    max_tokens = 2000,\n",
    "    openai_api_key = openai_api_key\n",
    ")"
   ]
  },
  {
   "cell_type": "code",
   "execution_count": 3,
   "metadata": {},
   "outputs": [],
   "source": [
    "from langchain.vectorstores import FAISS\n",
    "from langchain.chains import RetrievalQA\n",
    "from langchain.document_loaders import TextLoader\n",
    "from langchain.evaluation.qa import QAEvalChain\n",
    "from langchain_openai import OpenAIEmbeddings"
   ]
  },
  {
   "cell_type": "code",
   "execution_count": 4,
   "metadata": {},
   "outputs": [
    {
     "name": "stdout",
     "output_type": "stream",
     "text": [
      "You have now 1 document!\n",
      "Totally 75040 characters in the document!\n"
     ]
    }
   ],
   "source": [
    "loader = TextLoader(\"./worked.txt\")\n",
    "document = loader.load()\n",
    "\n",
    "print(f\"You have now {len(document)} document!\")\n",
    "print(f\"Totally {len(document[0].page_content)} characters in the document!\")"
   ]
  },
  {
   "cell_type": "code",
   "execution_count": 5,
   "metadata": {},
   "outputs": [],
   "source": [
    "from langchain.text_splitter import RecursiveCharacterTextSplitter\n",
    "\n",
    "text_splitter = RecursiveCharacterTextSplitter(chunk_size = 3000, chunk_overlap = 400)\n",
    "documents = text_splitter.split_documents(document)"
   ]
  },
  {
   "cell_type": "code",
   "execution_count": 6,
   "metadata": {},
   "outputs": [],
   "source": [
    "embeddings = OpenAIEmbeddings(openai_api_key = openai_api_key)\n",
    "document_search = FAISS.from_documents(documents, embeddings)"
   ]
  },
  {
   "cell_type": "code",
   "execution_count": 7,
   "metadata": {},
   "outputs": [],
   "source": [
    "chain = RetrievalQA.from_chain_type(\n",
    "    llm=llm,\n",
    "    chain_type=\"stuff\",\n",
    "    retriever=document_search.as_retriever(),\n",
    "    input_key=\"question\")"
   ]
  },
  {
   "cell_type": "code",
   "execution_count": null,
   "metadata": {},
   "outputs": [],
   "source": [
    "question_answers = [\n",
    "    {\n",
    "        \"question\": \"which company sold the microcomputer kit that his friend built himself?\",\n",
    "        \"answer\": \"Heathkit\"\n",
    "    },\n",
    "    {\n",
    "        \"question\": \"what was the small city he talked about in the city that is the financial capital of USA?\",\n",
    "        \"answer\": \"Yorkville, NY\"\n",
    "    },\n",
    "    {\n",
    "        \"question\": \"which are the grad schools he had applied ?\",\n",
    "        \"answer\": \"MIT, Yale, Harvard\"\n",
    "    }\n",
    "]"
   ]
  },
  {
   "cell_type": "code",
   "execution_count": 20,
   "metadata": {},
   "outputs": [
    {
     "data": {
      "text/plain": [
       "[{'question': 'which company sold the microcomputer kit that his friend built himself?',\n",
       "  'answer': 'Heathkit',\n",
       "  'result': 'The company that sold the microcomputer kit that his friend built himself was Heathkit.'},\n",
       " {'question': 'what was the small city he talked about in the city that is the financial capital of USA?',\n",
       "  'answer': 'Yorkville, NY',\n",
       "  'result': 'The small city mentioned in the context is Santa Cruz, located in California. The financial capital of the USA is New York City.'},\n",
       " {'question': 'which are the grad schools he had applied ?',\n",
       "  'answer': 'MIT, Yale, Harva',\n",
       "  'result': 'The user applied to MIT, Yale, and Harvard for grad school.'}]"
      ]
     },
     "execution_count": 20,
     "metadata": {},
     "output_type": "execute_result"
    }
   ],
   "source": [
    "predictions = chain.apply(question_answers)\n",
    "\n",
    "predictions"
   ]
  },
  {
   "cell_type": "code",
   "execution_count": 21,
   "metadata": {},
   "outputs": [],
   "source": [
    "evaluation_chain = QAEvalChain.from_llm(llm)"
   ]
  },
  {
   "cell_type": "code",
   "execution_count": 22,
   "metadata": {},
   "outputs": [],
   "source": [
    "graded_output = evaluation_chain.evaluate(\n",
    "    question_answers,\n",
    "    predictions,\n",
    "    question_key=\"question\",\n",
    "    prediction_key=\"result\",\n",
    "    answer_key=\"answer\"\n",
    ")"
   ]
  },
  {
   "cell_type": "code",
   "execution_count": 23,
   "metadata": {},
   "outputs": [
    {
     "data": {
      "text/plain": [
       "[{'results': 'CORRECT'}, {'results': 'INCORRECT'}, {'results': 'CORRECT'}]"
      ]
     },
     "execution_count": 23,
     "metadata": {},
     "output_type": "execute_result"
    }
   ],
   "source": [
    "graded_output"
   ]
  },
  {
   "cell_type": "code",
   "execution_count": null,
   "metadata": {},
   "outputs": [],
   "source": []
  }
 ],
 "metadata": {
  "kernelspec": {
   "display_name": "env",
   "language": "python",
   "name": "python3"
  },
  "language_info": {
   "codemirror_mode": {
    "name": "ipython",
    "version": 3
   },
   "file_extension": ".py",
   "mimetype": "text/x-python",
   "name": "python",
   "nbconvert_exporter": "python",
   "pygments_lexer": "ipython3",
   "version": "3.12.0"
  }
 },
 "nbformat": 4,
 "nbformat_minor": 2
}
