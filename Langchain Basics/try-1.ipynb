{
 "cells": [
  {
   "cell_type": "code",
   "execution_count": 2,
   "metadata": {},
   "outputs": [],
   "source": [
    "from art import tprint\n",
    "import langchain"
   ]
  },
  {
   "cell_type": "code",
   "execution_count": 3,
   "metadata": {},
   "outputs": [
    {
     "name": "stdout",
     "output_type": "stream",
     "text": [
      " _   _        _  _         __        __              _      _ \n",
      "| | | |  ___ | || |  ___   \\ \\      / /  ___   _ __ | |  __| |\n",
      "| |_| | / _ \\| || | / _ \\   \\ \\ /\\ / /  / _ \\ | '__|| | / _` |\n",
      "|  _  ||  __/| || || (_) |   \\ V  V /  | (_) || |   | || (_| |\n",
      "|_| |_| \\___||_||_| \\___/     \\_/\\_/    \\___/ |_|   |_| \\__,_|\n",
      "                                                              \n",
      "\n"
     ]
    }
   ],
   "source": [
    "tprint(\"Hello World\")"
   ]
  },
  {
   "cell_type": "code",
   "execution_count": null,
   "metadata": {},
   "outputs": [],
   "source": []
  }
 ],
 "metadata": {
  "kernelspec": {
   "display_name": "env",
   "language": "python",
   "name": "python3"
  },
  "language_info": {
   "codemirror_mode": {
    "name": "ipython",
    "version": 3
   },
   "file_extension": ".py",
   "mimetype": "text/x-python",
   "name": "python",
   "nbconvert_exporter": "python",
   "pygments_lexer": "ipython3",
   "version": "3.12.0"
  }
 },
 "nbformat": 4,
 "nbformat_minor": 2
}
