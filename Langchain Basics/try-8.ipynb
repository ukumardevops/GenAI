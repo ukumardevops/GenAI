{
 "cells": [
  {
   "cell_type": "markdown",
   "metadata": {},
   "source": [
    "### Agents"
   ]
  },
  {
   "cell_type": "code",
   "execution_count": 1,
   "metadata": {},
   "outputs": [],
   "source": [
    "import os\n",
    "from dotenv import load_dotenv\n",
    "from langchain import hub\n",
    "from langchain_openai import ChatOpenAI\n",
    "from langchain_core.tools import tool\n",
    "from langchain.agents import AgentExecutor, create_tool_calling_agent\n",
    "from langchain_community.utilities import GoogleSerperAPIWrapper"
   ]
  },
  {
   "cell_type": "code",
   "execution_count": 2,
   "metadata": {},
   "outputs": [],
   "source": [
    "load_dotenv()\n",
    "\n",
    "openai_api_key = os.environ[\"OPENAI_API_KEY\"]\n",
    "model_name = \"gpt-4\"\n",
    "llm = ChatOpenAI(\n",
    "    model = model_name,\n",
    "    openai_api_key = openai_api_key,\n",
    "    temperature = 1,\n",
    "    max_tokens = 1000\n",
    ")"
   ]
  },
  {
   "cell_type": "code",
   "execution_count": null,
   "metadata": {},
   "outputs": [],
   "source": [
    "@tool\n",
    "def multiply(first_int: int, second_int: int) -> int:\n",
    "    \"\"\"Multiplies two integers together\"\"\"\n",
    "\n",
    "    return first_int * second_int\n",
    "\n",
    "\n",
    "@tool\n",
    "def add(first_int: int, second_int: int) -> int:\n",
    "    \"\"\"Adds or Sums two integers together\"\"\"\n",
    "\n",
    "    return first_int + second_int\n",
    "\n",
    "\n",
    "@tool\n",
    "def exponentize(base: int, exponent: int) -> int:\n",
    "    \"\"\"Exponentize the base to the exponent value\"\"\"\n",
    "\n",
    "    return base ** exponent"
   ]
  },
  {
   "cell_type": "code",
   "execution_count": 4,
   "metadata": {},
   "outputs": [],
   "source": [
    "@tool(\"SerperSearch\")\n",
    "def search(query_string: str):\n",
    "    \"\"\"\n",
    "    Useful to search for any kind of information and\n",
    "    when you need to search the internet for any kinds of detailed information.\n",
    "    \"\"\"\n",
    "\n",
    "    search = GoogleSerperAPIWrapper()\n",
    "    \n",
    "    return search.run(query_string)"
   ]
  },
  {
   "cell_type": "code",
   "execution_count": 9,
   "metadata": {},
   "outputs": [
    {
     "name": "stderr",
     "output_type": "stream",
     "text": [
      "c:\\LC-Demonstrations\\env\\Lib\\site-packages\\langsmith\\client.py:241: LangSmithMissingAPIKeyWarning: API key must be provided when using hosted LangSmith API\n",
      "  warnings.warn(\n"
     ]
    }
   ],
   "source": [
    "tools = [multiply, add, exponentize, search]\n",
    "prompt = hub.pull(\"hwchase17/openai-tools-agent\")\n",
    "agent = create_tool_calling_agent(llm, tools, prompt)\n",
    "agent_executor = AgentExecutor(agent = agent, tools = tools, verbose = True)    \n"
   ]
  },
  {
   "cell_type": "code",
   "execution_count": 10,
   "metadata": {},
   "outputs": [],
   "source": [
    "question = \"\"\"\n",
    "take 3 to the fifth power and multiply that by the sum of twelve and three, \n",
    "then square the whole result. And let me know the capital of Malaysia\n",
    "\"\"\""
   ]
  },
  {
   "cell_type": "code",
   "execution_count": 11,
   "metadata": {},
   "outputs": [
    {
     "name": "stdout",
     "output_type": "stream",
     "text": [
      "\n",
      "\n",
      "\u001b[1m> Entering new AgentExecutor chain...\u001b[0m\n",
      "\u001b[32;1m\u001b[1;3m\n",
      "Invoking: `exponentize` with `{'base': 3, 'exponent': 5}`\n",
      "\n",
      "\n",
      "\u001b[0m\u001b[38;5;200m\u001b[1;3m243\u001b[0m\u001b[32;1m\u001b[1;3m\n",
      "Invoking: `add` with `{'first_int': 12, 'second_int': 3}`\n",
      "\n",
      "\n",
      "\u001b[0m\u001b[33;1m\u001b[1;3m15\u001b[0m\u001b[32;1m\u001b[1;3m\n",
      "Invoking: `multiply` with `{'first_int': 243, 'second_int': 15}`\n",
      "\n",
      "\n",
      "\u001b[0m\u001b[36;1m\u001b[1;3m3645\u001b[0m\u001b[32;1m\u001b[1;3m\n",
      "Invoking: `exponentize` with `{'base': 3645, 'exponent': 2}`\n",
      "\n",
      "\n",
      "\u001b[0m\u001b[38;5;200m\u001b[1;3m13286025\u001b[0m\u001b[32;1m\u001b[1;3m\n",
      "Invoking: `SerperSearch` with `{'query_string': 'capital of Malaysia'}`\n",
      "\n",
      "\n",
      "\u001b[0m\u001b[36;1m\u001b[1;3mKuala Lumpur is the national capital, the country's largest city, and the seat of the legislative branch of the federal government. Kuala Lumpur, capital of Malaysia. The city is located in west-central Peninsular (West) Malaysia, midway along the west coast tin and rubber belt. Kuala Lumpur, officially the Federal Territory of Kuala Lumpur, and colloquially referred to as KL, is the capital city and a federal territory of Malaysia. The Malaysian capital, Kuala Lumpur, lies in the western part of the peninsula, about 25 miles (40 km) from the coast; the administrative centre, Putrajaya, is ... Kuala Lumpur is the official and royal capital of Malaysia, while Putrajaya is the administrative and judicial center of the country's government. From ancient temples to towering skyscrapers, Kuala Lumpur is brimming with things to see and do. Find out why you should visit the Malaysian capital. Malaysia's capital, Kuala Lumpur, is located on the west side of Peninsular Malaysia, closer to the Indonesian island of Sumatra than to East Malaysia. East ... One of the fastest growing cities in Southeast Asia, Kuala Lumpur, the capital of Malaysia, is the country's largest city and both its cultural ... The biggest city is the capital, Kuala Lumpur. Kuala Lumpur is a modern city, with towering ... Duration: 1:35. Posted: Nov 7, 2019.\u001b[0m\u001b[32;1m\u001b[1;3mThe result of taking 3 to the fifth power, multiplying that by the sum of twelve and three, then squaring the whole result is 13,286,025.\n",
      "\n",
      "And the capital of Malaysia is Kuala Lumpur.\u001b[0m\n",
      "\n",
      "\u001b[1m> Finished chain.\u001b[0m\n",
      "{'input': '\\ntake 3 to the fifth power and multiply that by the sum of twelve and three, \\nthen square the whole result. And let me know the capital of Malaysia\\n', 'output': 'The result of taking 3 to the fifth power, multiplying that by the sum of twelve and three, then squaring the whole result is 13,286,025.\\n\\nAnd the capital of Malaysia is Kuala Lumpur.'}\n"
     ]
    }
   ],
   "source": [
    "response = agent_executor.invoke({\n",
    "    \"input\": question\n",
    "})\n",
    "print(response)"
   ]
  },
  {
   "cell_type": "code",
   "execution_count": null,
   "metadata": {},
   "outputs": [],
   "source": []
  }
 ],
 "metadata": {
  "kernelspec": {
   "display_name": "env",
   "language": "python",
   "name": "python3"
  },
  "language_info": {
   "codemirror_mode": {
    "name": "ipython",
    "version": 3
   },
   "file_extension": ".py",
   "mimetype": "text/x-python",
   "name": "python",
   "nbconvert_exporter": "python",
   "pygments_lexer": "ipython3",
   "version": "3.12.0"
  }
 },
 "nbformat": 4,
 "nbformat_minor": 2
}
