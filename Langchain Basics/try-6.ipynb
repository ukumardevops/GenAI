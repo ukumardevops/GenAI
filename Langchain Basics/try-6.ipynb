{
 "cells": [
  {
   "cell_type": "markdown",
   "metadata": {},
   "source": [
    "### Structured Output Parsing - Real World"
   ]
  },
  {
   "cell_type": "code",
   "execution_count": 1,
   "metadata": {},
   "outputs": [],
   "source": [
    "import os\n",
    "from dotenv import load_dotenv\n",
    "from langchain_openai import ChatOpenAI\n",
    "from pydantic import BaseModel, Field\n",
    "from typing import Optional, Sequence\n",
    "from langchain.chains.openai_functions import create_structured_output_chain\n",
    "from langchain.prompts import ChatPromptTemplate"
   ]
  },
  {
   "cell_type": "code",
   "execution_count": 31,
   "metadata": {},
   "outputs": [],
   "source": [
    "load_dotenv()\n",
    "\n",
    "openai_api_key = os.environ[\"OPENAI_API_KEY\"]\n",
    "model_name = \"gpt-3.5-turbo-0125\"\n",
    "#model_name = \"gpt-4\"\n",
    "\n",
    "llm = ChatOpenAI(\n",
    "    model=model_name,\n",
    "    openai_api_key=openai_api_key,\n",
    "    temperature=0.0,\n",
    "    max_tokens=1000\n",
    ")"
   ]
  },
  {
   "cell_type": "code",
   "execution_count": 3,
   "metadata": {},
   "outputs": [],
   "source": [
    "class Person(BaseModel):\n",
    "    \"\"\"\n",
    "    Identifying information about a person.\n",
    "    \"\"\"\n",
    "\n",
    "    name: str = Field(..., description=\"The Peronn's Name\")\n",
    "    age: int = Field(..., description=\"The Person's Age\")\n",
    "    yearsOfExperience: int = Field(...,\n",
    "                                   description=\"The Person's Number of Years of Experience\")\n",
    "    fav_food: Optional[str] = Field(\n",
    "        None, description=\"The Person's Favorite Food\")"
   ]
  },
  {
   "cell_type": "code",
   "execution_count": 4,
   "metadata": {},
   "outputs": [],
   "source": [
    "prompt = ChatPromptTemplate.from_messages(\n",
    "    [\n",
    "        (\"system\", \"You are a world class algorithm for extracting information in structured formats.\"),\n",
    "        (\"human\", \"Use the given format to extract information from the following input: {input}\"),\n",
    "        (\"human\", \"Tip: Make sure to answer in the correct format\"),\n",
    "    ]\n",
    ")"
   ]
  },
  {
   "cell_type": "code",
   "execution_count": 5,
   "metadata": {},
   "outputs": [
    {
     "name": "stderr",
     "output_type": "stream",
     "text": [
      "C:\\Users\\Admin\\AppData\\Local\\Temp\\ipykernel_2784\\2119344951.py:1: LangChainDeprecationWarning: The function `create_structured_output_chain` was deprecated in LangChain 0.1.1 and will be removed in 1.0. Use :meth:`~ChatOpenAI.with_structured_output` instead.\n",
      "  chain = create_structured_output_chain(Person, llm, prompt)\n"
     ]
    }
   ],
   "source": [
    "chain = create_structured_output_chain(Person, llm, prompt)"
   ]
  },
  {
   "cell_type": "code",
   "execution_count": 6,
   "metadata": {},
   "outputs": [],
   "source": [
    "request = \"Ramkumar is 48 Years Old, and 27 Years Of Experience in the industry, \\\n",
    "            and likes to have most of south indian food. Rajeev is 42 Years Old and \\\n",
    "            having 17 years of Experience, and likes to have most of the times North \\\n",
    "            Indian food items.\""
   ]
  },
  {
   "cell_type": "code",
   "execution_count": 7,
   "metadata": {},
   "outputs": [
    {
     "name": "stderr",
     "output_type": "stream",
     "text": [
      "C:\\Users\\Admin\\AppData\\Local\\Temp\\ipykernel_2784\\2198135298.py:1: LangChainDeprecationWarning: The method `Chain.run` was deprecated in langchain 0.1.0 and will be removed in 1.0. Use :meth:`~invoke` instead.\n",
      "  response = chain.run(request)\n"
     ]
    },
    {
     "name": "stdout",
     "output_type": "stream",
     "text": [
      "name='Ramkumar' age=48 yearsOfExperience=27 fav_food='South Indian'\n"
     ]
    }
   ],
   "source": [
    "response = chain.run(request)\n",
    "print(response)"
   ]
  },
  {
   "cell_type": "code",
   "execution_count": 8,
   "metadata": {},
   "outputs": [],
   "source": [
    "class People(BaseModel):\n",
    "    people: Sequence[Person] = Field(...,\n",
    "                                     description=\"Team Members of a project\")"
   ]
  },
  {
   "cell_type": "code",
   "execution_count": 32,
   "metadata": {},
   "outputs": [],
   "source": [
    "chain = create_structured_output_chain(People, llm, prompt)"
   ]
  },
  {
   "cell_type": "code",
   "execution_count": 29,
   "metadata": {},
   "outputs": [],
   "source": [
    "request = \"Ramkumar has 27 Years Of Experience in the industry, \\\n",
    "            and likes to have most of south indian food. Rajeev is 42 Years Old and \\\n",
    "            having 17 years of Experience, and likes to have most of the times North \\\n",
    "            Indian food items. Wajeeth is nearing to 45 years, and has 20 years of \\\n",
    "            industry experience.\""
   ]
  },
  {
   "cell_type": "code",
   "execution_count": 33,
   "metadata": {},
   "outputs": [
    {
     "name": "stdout",
     "output_type": "stream",
     "text": [
      "people=[Person(name='Ramkumar', age=27, yearsOfExperience=27, fav_food='South Indian'), Person(name='Rajeev', age=42, yearsOfExperience=17, fav_food='North Indian'), Person(name='Wajeeth', age=45, yearsOfExperience=20, fav_food=None)]\n"
     ]
    }
   ],
   "source": [
    "response = chain.run(request)\n",
    "print(response)"
   ]
  },
  {
   "cell_type": "code",
   "execution_count": null,
   "metadata": {},
   "outputs": [],
   "source": []
  }
 ],
 "metadata": {
  "kernelspec": {
   "display_name": "env",
   "language": "python",
   "name": "python3"
  },
  "language_info": {
   "codemirror_mode": {
    "name": "ipython",
    "version": 3
   },
   "file_extension": ".py",
   "mimetype": "text/x-python",
   "name": "python",
   "nbconvert_exporter": "python",
   "pygments_lexer": "ipython3",
   "version": "3.12.0"
  }
 },
 "nbformat": 4,
 "nbformat_minor": 2
}
