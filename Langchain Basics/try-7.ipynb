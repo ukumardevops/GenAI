{
 "cells": [
  {
   "cell_type": "markdown",
   "metadata": {},
   "source": [
    "### Multiple Chains - Executed Sequentially"
   ]
  },
  {
   "cell_type": "code",
   "execution_count": 1,
   "metadata": {},
   "outputs": [],
   "source": [
    "import os\n",
    "from dotenv import load_dotenv\n",
    "from langchain_openai import ChatOpenAI\n",
    "from langchain.chains import LLMChain, SequentialChain\n",
    "from langchain.prompts import PromptTemplate"
   ]
  },
  {
   "cell_type": "code",
   "execution_count": 2,
   "metadata": {},
   "outputs": [],
   "source": [
    "load_dotenv()\n",
    "\n",
    "openai_api_key = os.environ[\"OPENAI_API_KEY\"]\n",
    "model_name = \"gpt-3.5-turbo-0125\"\n",
    "llm = ChatOpenAI(\n",
    "    model=model_name,\n",
    "    openai_api_key=openai_api_key,\n",
    "    temperature=0.1,\n",
    "    max_tokens=1000\n",
    ")"
   ]
  },
  {
   "cell_type": "code",
   "execution_count": 3,
   "metadata": {},
   "outputs": [],
   "source": [
    "template1 = \"\"\"\n",
    "Write a blog outline given a topic\n",
    "\n",
    "Topic: {topic}\n",
    "\"\"\"\n",
    "\n",
    "template2 = \"\"\"\n",
    "Write a blog article based on the below outline.\n",
    "\n",
    "Outline: {outline}\n",
    "\"\"\""
   ]
  },
  {
   "cell_type": "code",
   "execution_count": 4,
   "metadata": {},
   "outputs": [],
   "source": [
    "prompt1 = PromptTemplate(\n",
    "    input_variables = [\"topic\"],\n",
    "    template = template1\n",
    ")\n",
    "\n",
    "prompt2 = PromptTemplate(\n",
    "    input_variables = [\"outline\"],\n",
    "    template = template1\n",
    ")"
   ]
  },
  {
   "cell_type": "code",
   "execution_count": 5,
   "metadata": {},
   "outputs": [
    {
     "name": "stderr",
     "output_type": "stream",
     "text": [
      "C:\\Users\\Admin\\AppData\\Local\\Temp\\ipykernel_8416\\1151998628.py:1: LangChainDeprecationWarning: The class `LLMChain` was deprecated in LangChain 0.1.17 and will be removed in 1.0. Use :meth:`~RunnableSequence, e.g., `prompt | llm`` instead.\n",
      "  chain1 = LLMChain(\n"
     ]
    }
   ],
   "source": [
    "chain1 = LLMChain(\n",
    "    llm = llm,\n",
    "    prompt = prompt1,\n",
    "    output_key = \"outline\"\n",
    ")\n",
    "\n",
    "chain2 = LLMChain(\n",
    "    llm = llm,\n",
    "    prompt = prompt2,\n",
    "    output_key = \"article\"\n",
    ")"
   ]
  },
  {
   "cell_type": "code",
   "execution_count": 6,
   "metadata": {},
   "outputs": [],
   "source": [
    "overall_chain = SequentialChain(\n",
    "    chains = [chain1, chain2],\n",
    "    input_variables = [\"topic\"],\n",
    "    output_variables = [\"outline\", \"article\"],\n",
    "    verbose = True\n",
    ") "
   ]
  },
  {
   "cell_type": "code",
   "execution_count": 7,
   "metadata": {},
   "outputs": [
    {
     "name": "stderr",
     "output_type": "stream",
     "text": [
      "C:\\Users\\Admin\\AppData\\Local\\Temp\\ipykernel_8416\\1192760725.py:1: LangChainDeprecationWarning: The method `Chain.__call__` was deprecated in langchain 0.1.0 and will be removed in 1.0. Use :meth:`~invoke` instead.\n",
      "  response = overall_chain({\n"
     ]
    },
    {
     "name": "stdout",
     "output_type": "stream",
     "text": [
      "\n",
      "\n",
      "\u001b[1m> Entering new SequentialChain chain...\u001b[0m\n",
      "\n",
      "\u001b[1m> Finished chain.\u001b[0m\n"
     ]
    }
   ],
   "source": [
    "response = overall_chain({\n",
    "    \"topic\": \"Corona Virus Management in India\"\n",
    "})"
   ]
  },
  {
   "cell_type": "code",
   "execution_count": 8,
   "metadata": {},
   "outputs": [
    {
     "name": "stdout",
     "output_type": "stream",
     "text": [
      "{'topic': 'Corona Virus Management in India', 'outline': 'I. Introduction\\n    A. Brief overview of the current situation in India regarding the Corona Virus\\n    B. Importance of effective management strategies\\n\\nII. Background of Corona Virus in India\\n    A. Timeline of events leading up to the outbreak in India\\n    B. Initial response and measures taken by the government\\n\\nIII. Challenges Faced in Managing the Corona Virus in India\\n    A. Population density and overcrowding\\n    B. Limited healthcare infrastructure\\n    C. Socio-economic disparities\\n    D. Misinformation and stigma\\n\\nIV. Government Response and Management Strategies\\n    A. Lockdown measures and their impact\\n    B. Testing and contact tracing efforts\\n    C. Healthcare system preparedness and capacity building\\n    D. Communication and awareness campaigns\\n\\nV. Community Engagement and Participation\\n    A. Role of local authorities and community leaders\\n    B. Volunteer efforts and community support initiatives\\n    C. Importance of individual responsibility in preventing the spread\\n\\nVI. Lessons Learned and Future Preparedness\\n    A. Successes and failures in managing the Corona Virus in India\\n    B. Recommendations for future pandemic preparedness\\n    C. Importance of global cooperation and solidarity\\n\\nVII. Conclusion\\n    A. Recap of key points discussed\\n    B. Call to action for continued vigilance and cooperation in managing the Corona Virus in India.', 'article': \"I. Introduction\\n    A. Brief overview of the current situation in India regarding the Corona Virus\\n    B. Importance of effective management strategies\\n\\nII. Background Information\\n    A. Timeline of the spread of the virus in India\\n    B. Government response and measures taken to control the spread\\n\\nIII. Challenges Faced in Managing the Corona Virus in India\\n    A. Population density and overcrowding\\n    B. Limited healthcare infrastructure\\n    C. Socio-economic factors impacting prevention and control efforts\\n\\nIV. Strategies Implemented for Corona Virus Management in India\\n    A. Lockdown measures and their impact\\n    B. Testing and contact tracing efforts\\n    C. Healthcare system preparedness and response\\n\\nV. Successes and Failures in Corona Virus Management\\n    A. Areas where India has been successful in controlling the spread\\n    B. Challenges and shortcomings in the management of the virus\\n\\nVI. Lessons Learned and Recommendations for Future Pandemic Preparedness\\n    A. Key takeaways from India's experience in managing the Corona Virus\\n    B. Recommendations for improving future pandemic response efforts\\n\\nVII. Conclusion\\n    A. Recap of key points discussed in the blog\\n    B. Final thoughts on the importance of effective Corona Virus management in India\"}\n"
     ]
    }
   ],
   "source": [
    "print(response)"
   ]
  },
  {
   "cell_type": "code",
   "execution_count": 9,
   "metadata": {},
   "outputs": [
    {
     "name": "stdout",
     "output_type": "stream",
     "text": [
      "I. Introduction\n",
      "    A. Brief overview of the current situation in India regarding the Corona Virus\n",
      "    B. Importance of effective management strategies\n",
      "\n",
      "II. Background of Corona Virus in India\n",
      "    A. Timeline of events leading up to the outbreak in India\n",
      "    B. Initial response and measures taken by the government\n",
      "\n",
      "III. Challenges Faced in Managing the Corona Virus in India\n",
      "    A. Population density and overcrowding\n",
      "    B. Limited healthcare infrastructure\n",
      "    C. Socio-economic disparities\n",
      "    D. Misinformation and stigma\n",
      "\n",
      "IV. Government Response and Management Strategies\n",
      "    A. Lockdown measures and their impact\n",
      "    B. Testing and contact tracing efforts\n",
      "    C. Healthcare system preparedness and capacity building\n",
      "    D. Communication and awareness campaigns\n",
      "\n",
      "V. Community Engagement and Participation\n",
      "    A. Role of local authorities and community leaders\n",
      "    B. Volunteer efforts and community support initiatives\n",
      "    C. Importance of individual responsibility in preventing the spread\n",
      "\n",
      "VI. Lessons Learned and Future Preparedness\n",
      "    A. Successes and failures in managing the Corona Virus in India\n",
      "    B. Recommendations for future pandemic preparedness\n",
      "    C. Importance of global cooperation and solidarity\n",
      "\n",
      "VII. Conclusion\n",
      "    A. Recap of key points discussed\n",
      "    B. Call to action for continued vigilance and cooperation in managing the Corona Virus in India.\n",
      "I. Introduction\n",
      "    A. Brief overview of the current situation in India regarding the Corona Virus\n",
      "    B. Importance of effective management strategies\n",
      "\n",
      "II. Background Information\n",
      "    A. Timeline of the spread of the virus in India\n",
      "    B. Government response and measures taken to control the spread\n",
      "\n",
      "III. Challenges Faced in Managing the Corona Virus in India\n",
      "    A. Population density and overcrowding\n",
      "    B. Limited healthcare infrastructure\n",
      "    C. Socio-economic factors impacting prevention and control efforts\n",
      "\n",
      "IV. Strategies Implemented for Corona Virus Management in India\n",
      "    A. Lockdown measures and their impact\n",
      "    B. Testing and contact tracing efforts\n",
      "    C. Healthcare system preparedness and response\n",
      "\n",
      "V. Successes and Failures in Corona Virus Management\n",
      "    A. Areas where India has been successful in controlling the spread\n",
      "    B. Challenges and shortcomings in the management of the virus\n",
      "\n",
      "VI. Lessons Learned and Recommendations for Future Pandemic Preparedness\n",
      "    A. Key takeaways from India's experience in managing the Corona Virus\n",
      "    B. Recommendations for improving future pandemic response efforts\n",
      "\n",
      "VII. Conclusion\n",
      "    A. Recap of key points discussed in the blog\n",
      "    B. Final thoughts on the importance of effective Corona Virus management in India\n"
     ]
    }
   ],
   "source": [
    "print(response[\"outline\"])\n",
    "print(response[\"article\"])"
   ]
  },
  {
   "cell_type": "code",
   "execution_count": null,
   "metadata": {},
   "outputs": [],
   "source": []
  }
 ],
 "metadata": {
  "kernelspec": {
   "display_name": "env",
   "language": "python",
   "name": "python3"
  },
  "language_info": {
   "codemirror_mode": {
    "name": "ipython",
    "version": 3
   },
   "file_extension": ".py",
   "mimetype": "text/x-python",
   "name": "python",
   "nbconvert_exporter": "python",
   "pygments_lexer": "ipython3",
   "version": "3.12.0"
  }
 },
 "nbformat": 4,
 "nbformat_minor": 2
}
