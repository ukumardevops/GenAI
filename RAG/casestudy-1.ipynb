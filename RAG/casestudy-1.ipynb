{
 "cells": [
  {
   "cell_type": "markdown",
   "metadata": {},
   "source": [
    "### RAG Casestudy (CSV)"
   ]
  },
  {
   "cell_type": "code",
   "execution_count": 1,
   "metadata": {},
   "outputs": [],
   "source": [
    "import os\n",
    "from dotenv import load_dotenv\n",
    "from langchain_openai import ChatOpenAI, OpenAIEmbeddings\n",
    "from langchain.document_loaders.csv_loader import CSVLoader\n",
    "from langchain.vectorstores import Qdrant\n",
    "from langchain.indexes import VectorstoreIndexCreator\n",
    "from langchain.chains import RetrievalQA"
   ]
  },
  {
   "cell_type": "code",
   "execution_count": 3,
   "metadata": {},
   "outputs": [],
   "source": [
    "loader = CSVLoader(file_path='./data/movies.csv',\n",
    "                   source_column='original_title',\n",
    "                   encoding='utf-8',\n",
    "                   csv_args={'delimiter': ',', 'fieldnames': ['id', 'original_language', 'original_title', 'popularity', 'release_date', 'vote_average', 'vote_count', 'genre', 'overview', 'revenue', 'runtime', 'tagline']})\n",
    "\n",
    "data = loader.load()"
   ]
  },
  {
   "cell_type": "code",
   "execution_count": 4,
   "metadata": {},
   "outputs": [
    {
     "name": "stdout",
     "output_type": "stream",
     "text": [
      "Loaded 501 movies\n"
     ]
    }
   ],
   "source": [
    "print('Loaded %s movies' % len(data))"
   ]
  },
  {
   "cell_type": "code",
   "execution_count": 5,
   "metadata": {},
   "outputs": [],
   "source": [
    "openai_api_key = os.environ[\"OPENAI_API_KEY\"]\n",
    "model_name = \"gpt-3.5-turbo-0125\"\n",
    "embedding_model_name = \"text-embedding-3-large\""
   ]
  },
  {
   "cell_type": "code",
   "execution_count": 6,
   "metadata": {},
   "outputs": [],
   "source": [
    "embeddings = OpenAIEmbeddings(\n",
    "    model=embedding_model_name,\n",
    "    openai_api_key=openai_api_key\n",
    ")"
   ]
  },
  {
   "cell_type": "code",
   "execution_count": 7,
   "metadata": {},
   "outputs": [],
   "source": [
    "llm = ChatOpenAI(\n",
    "    model=model_name,\n",
    "    openai_api_key=openai_api_key,\n",
    "    temperature=0.1,\n",
    "    max_tokens=1000\n",
    ")"
   ]
  },
  {
   "cell_type": "code",
   "execution_count": 8,
   "metadata": {},
   "outputs": [],
   "source": [
    "url = \"http://localhost:6333\""
   ]
  },
  {
   "cell_type": "code",
   "execution_count": 10,
   "metadata": {},
   "outputs": [],
   "source": [
    "qdrant = Qdrant.from_documents(\n",
    "    data,\n",
    "    embeddings,\n",
    "    url=url,\n",
    "    prefer_grpc=False,\n",
    "    collection_name=\"my_movies\",\n",
    ")"
   ]
  },
  {
   "cell_type": "code",
   "execution_count": 15,
   "metadata": {},
   "outputs": [],
   "source": [
    "vectorstore = qdrant"
   ]
  },
  {
   "cell_type": "code",
   "execution_count": 12,
   "metadata": {},
   "outputs": [],
   "source": [
    "query = \"Can you suggest similar movies to The Matrix?\""
   ]
  },
  {
   "cell_type": "code",
   "execution_count": 13,
   "metadata": {},
   "outputs": [],
   "source": [
    "query_results = qdrant.similarity_search(query)"
   ]
  },
  {
   "cell_type": "code",
   "execution_count": 14,
   "metadata": {},
   "outputs": [
    {
     "name": "stdout",
     "output_type": "stream",
     "text": [
      "Source Code\n",
      "Paycheck\n",
      "Waking Life\n",
      "Replicas\n"
     ]
    }
   ],
   "source": [
    "for doc in query_results:\n",
    "    print(doc.metadata['source'])"
   ]
  },
  {
   "cell_type": "code",
   "execution_count": 16,
   "metadata": {},
   "outputs": [],
   "source": [
    "index_creator = VectorstoreIndexCreator(embedding=embeddings, vectorstore_cls=Qdrant)\n",
    "docsearch = index_creator.from_loaders([loader])"
   ]
  },
  {
   "cell_type": "code",
   "execution_count": 17,
   "metadata": {},
   "outputs": [],
   "source": [
    "chain = RetrievalQA.from_chain_type(llm=llm,\n",
    "                                    chain_type=\"stuff\",\n",
    "                                    retriever=docsearch.vectorstore.as_retriever(),\n",
    "                                    input_key=\"question\",\n",
    "                                    return_source_documents=True)"
   ]
  },
  {
   "cell_type": "code",
   "execution_count": 18,
   "metadata": {},
   "outputs": [],
   "source": [
    "query = \"Do you have a column called popularity?\"\n",
    "response = chain.invoke({\"question\": query})"
   ]
  },
  {
   "cell_type": "code",
   "execution_count": 19,
   "metadata": {},
   "outputs": [
    {
     "name": "stdout",
     "output_type": "stream",
     "text": [
      "Yes, there is a column called \"popularity\" in the dataset.\n"
     ]
    }
   ],
   "source": [
    "print(response['result'])"
   ]
  },
  {
   "cell_type": "code",
   "execution_count": 20,
   "metadata": {},
   "outputs": [
    {
     "name": "stdout",
     "output_type": "stream",
     "text": [
      "[Document(metadata={'source': 'original_title', 'row': 0, '_id': '25b47ef1-3c68-42a5-8b20-9c397c4e36d3', '_collection_name': 'd320ed54af5a47d69bc5c57ee63de01b'}, page_content='id: id\\noriginal_language: original_language\\noriginal_title: original_title\\npopularity: popularity\\nrelease_date: release_date\\nvote_average: vote_average\\nvote_count: vote_count\\ngenre: genre\\noverview: overview\\nrevenue: revenue\\nruntime: runtime\\ntagline: tagline'), Document(metadata={'source': 'Fame', 'row': 321, '_id': 'bbe8712d-c990-44bb-affa-cfd1d4522cc6', '_collection_name': 'd320ed54af5a47d69bc5c57ee63de01b'}, page_content=\"id: 3537.0\\noriginal_language: en\\noriginal_title: Fame\\npopularity: 7.651\\nrelease_date: 1980-05-16\\nvote_average: 6.5\\nvote_count: 320.0\\ngenre: ['Drama', 'Music']\\noverview: A chronicle of the lives of several teenagers who attend a New York high school for students gifted in the performing arts.\\nrevenue: 42000000.0\\nruntime: 134.0\\ntagline: If they've really got what it takes, it's going to take everything they've got.\"), Document(metadata={'source': 'Status Update', 'row': 386, '_id': '0b6d7bd2-788d-4264-abb1-8ab920a2759f', '_collection_name': 'd320ed54af5a47d69bc5c57ee63de01b'}, page_content=\"id: 416494.0\\noriginal_language: en\\noriginal_title: Status Update\\npopularity: 22.897\\nrelease_date: 2018-02-09\\nvote_average: 7.4\\nvote_count: 375.0\\ngenre: ['Comedy', 'Fantasy', 'Science Fiction']\\noverview: After being uprooted by his parents' separation and unable to fit into his new hometown, a teenager stumbles upon a magical app that causes his social media updates to come true.\\nrevenue: 0.0\\nruntime: 106.0\\ntagline: Imagine if every time you updated your status your dreams came true\"), Document(metadata={'source': 'Casablanca', 'row': 483, '_id': 'f5cb5068-147e-434d-8ce4-0c721213c3e4', '_collection_name': 'd320ed54af5a47d69bc5c57ee63de01b'}, page_content=\"id: 289.0\\noriginal_language: en\\noriginal_title: Casablanca\\npopularity: 22.587\\nrelease_date: 1942-11-26\\nvote_average: 8.2\\nvote_count: 3961.0\\ngenre: ['Drama', 'Romance']\\noverview: In Casablanca, Morocco in December 1941, a cynical American expatriate meets a former lover, with unforeseen complications.\\nrevenue: 10462500.0\\nruntime: 102.0\\ntagline: They had a date with fate in Casablanca!\")]\n"
     ]
    }
   ],
   "source": [
    "print(response['source_documents'])"
   ]
  },
  {
   "cell_type": "code",
   "execution_count": 21,
   "metadata": {},
   "outputs": [],
   "source": [
    "query = \"\"\"If the popularity score is defined as a higher value being a more popular movie,\n",
    "what is the name of the most popular movie in the data provided?\"\"\""
   ]
  },
  {
   "cell_type": "code",
   "execution_count": 22,
   "metadata": {},
   "outputs": [],
   "source": [
    "response = chain.invoke({\"question\": query})"
   ]
  },
  {
   "cell_type": "code",
   "execution_count": 23,
   "metadata": {},
   "outputs": [
    {
     "name": "stdout",
     "output_type": "stream",
     "text": [
      "The most popular movie in the data provided is \"Ben-Hur\" with a popularity score of 35.076.\n"
     ]
    }
   ],
   "source": [
    "print(response['result'])"
   ]
  },
  {
   "cell_type": "code",
   "execution_count": 24,
   "metadata": {},
   "outputs": [
    {
     "name": "stdout",
     "output_type": "stream",
     "text": [
      "[Document(metadata={'source': 'Casablanca', 'row': 483, '_id': 'f5cb5068-147e-434d-8ce4-0c721213c3e4', '_collection_name': 'd320ed54af5a47d69bc5c57ee63de01b'}, page_content=\"id: 289.0\\noriginal_language: en\\noriginal_title: Casablanca\\npopularity: 22.587\\nrelease_date: 1942-11-26\\nvote_average: 8.2\\nvote_count: 3961.0\\ngenre: ['Drama', 'Romance']\\noverview: In Casablanca, Morocco in December 1941, a cynical American expatriate meets a former lover, with unforeseen complications.\\nrevenue: 10462500.0\\nruntime: 102.0\\ntagline: They had a date with fate in Casablanca!\"), Document(metadata={'source': 'Ben-Hur', 'row': 226, '_id': 'e80bc7f9-9cc0-46c0-ba9d-b584b16f9e38', '_collection_name': 'd320ed54af5a47d69bc5c57ee63de01b'}, page_content=\"id: 665.0\\noriginal_language: en\\noriginal_title: Ben-Hur\\npopularity: 35.076\\nrelease_date: 1959-11-18\\nvote_average: 7.8\\nvote_count: 1938.0\\ngenre: ['Action', 'Drama', 'History']\\noverview: In 25 AD,Judah Ben-Hur, a Jew in ancient Judea, opposes the occupying Roman empire.  Falsely accused by a Roman childhood friend-turned-overlord of trying to kill the Roman governor, he is put into slavery and his mother and sister are taken away as prisoners.  Three years later and freed by a grateful Roman galley commander whom he has rescued from drowning, he becomes an expert charioteer for Rome, all the while plotting to return to Judea, find and rescue his family, and avenge himself on his former friend.  All the while, the form and work of Jesus move in the background of his life...\\nrevenue: 164000000.0\\nruntime: 222.0\\ntagline: The entertainment experience of a lifetime.\"), Document(metadata={'source': 'Fame', 'row': 321, '_id': 'bbe8712d-c990-44bb-affa-cfd1d4522cc6', '_collection_name': 'd320ed54af5a47d69bc5c57ee63de01b'}, page_content=\"id: 3537.0\\noriginal_language: en\\noriginal_title: Fame\\npopularity: 7.651\\nrelease_date: 1980-05-16\\nvote_average: 6.5\\nvote_count: 320.0\\ngenre: ['Drama', 'Music']\\noverview: A chronicle of the lives of several teenagers who attend a New York high school for students gifted in the performing arts.\\nrevenue: 42000000.0\\nruntime: 134.0\\ntagline: If they've really got what it takes, it's going to take everything they've got.\"), Document(metadata={'source': 'Jurassic Park', 'row': 458, '_id': '5bc9720c-cff8-4162-bb9b-99b53f94aee3', '_collection_name': 'd320ed54af5a47d69bc5c57ee63de01b'}, page_content=\"id: 329.0\\noriginal_language: en\\noriginal_title: Jurassic Park\\npopularity: 21.804\\nrelease_date: 1993-06-11\\nvote_average: 7.9\\nvote_count: 12770.0\\ngenre: ['Adventure', 'Science Fiction']\\noverview: A wealthy entrepreneur secretly creates a theme park featuring living dinosaurs drawn from prehistoric DNA. Before opening day, he invites a team of experts and his two eager grandchildren to experience the park and help calm anxious investors. However, the park is anything but amusing as the security systems go off-line and the dinosaurs escape.\\nrevenue: 920100000.0\\nruntime: 127.0\\ntagline: An adventure 65 million years in the making.\")]\n"
     ]
    }
   ],
   "source": [
    "print(response['source_documents'])"
   ]
  },
  {
   "cell_type": "code",
   "execution_count": 32,
   "metadata": {},
   "outputs": [
    {
     "name": "stdout",
     "output_type": "stream",
     "text": [
      "The Spider-Man movie released in 2002 is simply titled \"Spider-Man.\"\n",
      "[Document(metadata={'source': 'Spider-Man: Far From Home', 'row': 353, '_id': '1a9eda05-0384-488d-af90-054baab037ec', '_collection_name': 'd320ed54af5a47d69bc5c57ee63de01b'}, page_content=\"id: 429617.0\\noriginal_language: en\\noriginal_title: Spider-Man: Far From Home\\npopularity: 273.535\\nrelease_date: 2019-06-28\\nvote_average: 7.5\\nvote_count: 10893.0\\ngenre: ['Action', 'Adventure', 'Science Fiction']\\noverview: Peter Parker and his friends go on a summer trip to Europe. However, they will hardly be able to rest - Peter will have to agree to help Nick Fury uncover the mystery of creatures that cause natural disasters and destruction throughout the continent.\\nrevenue: 1131927996.0\\nruntime: 129.0\\ntagline: It’s time to step up.\"), Document(metadata={'source': 'Men in Black II', 'row': 358, '_id': 'a36c125c-24be-4eb3-9e7c-e985aaa43ad1', '_collection_name': 'd320ed54af5a47d69bc5c57ee63de01b'}, page_content=\"id: 608.0\\noriginal_language: en\\noriginal_title: Men in Black II\\npopularity: 34.248\\nrelease_date: 2002-07-03\\nvote_average: 6.3\\nvote_count: 8022.0\\ngenre: ['Action', 'Adventure', 'Comedy', 'Science Fiction']\\noverview: Kay and Jay reunite to provide our best, last and only line of defense against a sinister seductress who levels the toughest challenge yet to the MIB's untarnished mission statement – protecting Earth from the scum of the universe. It's been four years since the alien-seeking agents averted an intergalactic disaster of epic proportions. Now it's a race against the clock as Jay must convince Kay – who not only has absolutely no memory of his time spent with the MIB, but is also the only living person left with the expertise to save the galaxy – to reunite with the MIB before the earth submits to ultimate destruction.\\nrevenue: 445135288.0\\nruntime: 88.0\\ntagline: Same Planet. New Scum.\"), Document(metadata={'source': 'Spy Game', 'row': 450, '_id': '70f91bc7-1e1c-45d1-9e5e-41382532a743', '_collection_name': 'd320ed54af5a47d69bc5c57ee63de01b'}, page_content=\"id: 1535.0\\noriginal_language: en\\noriginal_title: Spy Game\\npopularity: 23.59\\nrelease_date: 2001-11-18\\nvote_average: 6.9\\nvote_count: 1541.0\\ngenre: ['Action', 'Crime', 'Thriller']\\noverview: On the day of his retirement, a veteran CIA agent learns that his former protégé has been arrested in China, is sentenced to die the next morning in Beijing, and that the CIA is considering letting that happen to avoid an international scandal.\\nrevenue: 143049560.0\\nruntime: 126.0\\ntagline: It's not how you play the game. It's how the game plays you.\"), Document(metadata={'source': 'Troy', 'row': 390, '_id': 'a321c542-0906-41e2-aaf7-b25712fd5322', '_collection_name': 'd320ed54af5a47d69bc5c57ee63de01b'}, page_content=\"id: 652.0\\noriginal_language: en\\noriginal_title: Troy\\npopularity: 56.356\\nrelease_date: 2004-05-03\\nvote_average: 7.1\\nvote_count: 8023.0\\ngenre: ['Adventure', 'History', 'War']\\noverview: In year 1250 B.C. during the late Bronze age, two emerging nations begin to clash. Paris, the Trojan prince, convinces Helen, Queen of Sparta, to leave her husband Menelaus, and sail with him back to Troy. After Menelaus finds out that his wife was taken by the Trojans, he asks his brother Agamemnom to help him get her back. Agamemnon sees this as an opportunity for power. So they set off with 1,000 ships holding 50,000 Greeks to Troy. With the help of Achilles, the Greeks are able to fight the never before defeated Trojans.\\nrevenue: 497409852.0\\nruntime: 163.0\\ntagline: For passion. For honor. For destiny. For victory. For love.\")]\n"
     ]
    }
   ],
   "source": [
    "query = \"\"\"find the spider man movie released in 2002?\"\"\"\n",
    "response = chain.invoke({\"question\": query})\n",
    "print(response['result'])\n",
    "print(response['source_documents'])"
   ]
  },
  {
   "cell_type": "code",
   "execution_count": 34,
   "metadata": {},
   "outputs": [
    {
     "name": "stdout",
     "output_type": "stream",
     "text": [
      "Yes, Bangalore is a city in southern India and is the capital of the state of Karnataka. It is known for its pleasant climate, vibrant nightlife, and being a hub for technology companies and startups.\n",
      "[Document(metadata={'source': 'कुछ कुछ होता है', 'row': 409, '_id': '83545ee3-4844-45e2-b03a-346e723ed3f6', '_collection_name': 'd320ed54af5a47d69bc5c57ee63de01b'}, page_content=\"id: 11854.0\\noriginal_language: hi\\noriginal_title: कुछ कुछ होता है\\npopularity: 9.783\\nrelease_date: 1998-10-16\\nvote_average: 7.7\\nvote_count: 290.0\\ngenre: ['Drama', 'Romance']\\noverview: Anjali is left heartbroken when her best friend and secret crush, Rahul, falls in love with Tina. Years later, Tina's young daughter tries to fulfil her mother's last wish of uniting Rahul and Anjali.\\nrevenue: 15306000.0\\nruntime: 185.0\\ntagline: Love is Friendship.\"), Document(metadata={'source': 'Blood Money', 'row': 79, '_id': 'd410638b-a239-4441-816f-368662d63577', '_collection_name': 'd320ed54af5a47d69bc5c57ee63de01b'}, page_content=\"id: 105379.0\\noriginal_language: hi\\noriginal_title: Blood Money\\npopularity: 38.939\\nrelease_date: 2012-03-31\\nvote_average: 6.1\\nvote_count: 7.0\\ngenre: ['Drama', 'Action', 'Thriller']\\noverview: In South Africa, a young man living with his wife becomes embroiled in an illegal diamond business and with time finds his life changing.\\nrevenue: 0.0\\nruntime: 110.0\\ntagline: Success comes at a price.\"), Document(metadata={'source': 'Mowgli: Legend of the Jungle', 'row': 355, '_id': '3631c472-9980-4f9e-8261-5ba7d8b442f9', '_collection_name': 'd320ed54af5a47d69bc5c57ee63de01b'}, page_content=\"id: 407436.0\\noriginal_language: en\\noriginal_title: Mowgli: Legend of the Jungle\\npopularity: 29.787\\nrelease_date: 2018-11-25\\nvote_average: 6.5\\nvote_count: 2081.0\\ngenre: ['Adventure', 'Drama']\\noverview: A human child raised by wolves, must face off against a menacing tiger named Shere Khan, as well as his own origins.\\nrevenue: 0.0\\nruntime: 105.0\\ntagline: The greatest journey is finding where you belong\"), Document(metadata={'source': 'Babel', 'row': 271, '_id': '5a15df8b-775b-4bc1-acff-972debe365c1', '_collection_name': 'd320ed54af5a47d69bc5c57ee63de01b'}, page_content='revenue: 135330182.0\\nruntime: 143.0\\ntagline: If You Want to be Understood...Listen')]\n"
     ]
    }
   ],
   "source": [
    "query = \"\"\"do you know Bangalore?\"\"\"\n",
    "response = chain.invoke({\"question\": query})\n",
    "print(response['result'])\n",
    "print(response['source_documents'])"
   ]
  },
  {
   "cell_type": "code",
   "execution_count": null,
   "metadata": {},
   "outputs": [],
   "source": []
  }
 ],
 "metadata": {
  "kernelspec": {
   "display_name": "env",
   "language": "python",
   "name": "python3"
  },
  "language_info": {
   "codemirror_mode": {
    "name": "ipython",
    "version": 3
   },
   "file_extension": ".py",
   "mimetype": "text/x-python",
   "name": "python",
   "nbconvert_exporter": "python",
   "pygments_lexer": "ipython3",
   "version": "3.12.0"
  }
 },
 "nbformat": 4,
 "nbformat_minor": 2
}
