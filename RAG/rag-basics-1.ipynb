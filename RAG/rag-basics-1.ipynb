{
 "cells": [
  {
   "cell_type": "markdown",
   "metadata": {},
   "source": [
    "### Document Loaders"
   ]
  },
  {
   "cell_type": "code",
   "execution_count": 1,
   "metadata": {},
   "outputs": [],
   "source": [
    "from langchain.document_loaders import UnstructuredURLLoader"
   ]
  },
  {
   "cell_type": "code",
   "execution_count": 2,
   "metadata": {},
   "outputs": [],
   "source": [
    "urls = [\n",
    "    \"https://paulgraham.com/when.html\"\n",
    "]\n",
    "loader = UnstructuredURLLoader(urls)"
   ]
  },
  {
   "cell_type": "code",
   "execution_count": 3,
   "metadata": {},
   "outputs": [
    {
     "name": "stdout",
     "output_type": "stream",
     "text": [
      "1\n"
     ]
    }
   ],
   "source": [
    "data = loader.load()\n",
    "print(len(data))"
   ]
  },
  {
   "cell_type": "code",
   "execution_count": 4,
   "metadata": {},
   "outputs": [
    {
     "name": "stdout",
     "output_type": "stream",
     "text": [
      "{'source': 'https://paulgraham.com/when.html'}\n"
     ]
    }
   ],
   "source": [
    "print(data[0].metadata)"
   ]
  },
  {
   "cell_type": "code",
   "execution_count": 5,
   "metadata": {},
   "outputs": [
    {
     "name": "stdout",
     "output_type": "stream",
     "text": [
      "September 2024 There's some debate about whether it's a good idea to \"follow your\n",
      "passion.\" In fact the question is impossible to answer with a simple\n",
      "yes or no. Sometimes you should and sometimes you shouldn't, but\n",
      "the border between should and shouldn't is very complicated. The\n",
      "only way to give a general answer is to trace it. When people talk about this question, there's always an implicit\n",
      "\"instead of.\" All other things being equal, why wouldn't you work\n",
      "on what interests you the most? So even raising the question implies\n",
      "that all other things aren't equal, and that you have to choose\n",
      "between working on what interests you the most and something else,\n",
      "like what pays the best. And indeed if your main goal is to make money, you can't usually\n",
      "afford to work on what interests you the most. People pay you for\n",
      "doing what they want, not what you want. But there's an obvious\n",
      "exception: when you both want the same thing. For example, if you\n",
      "love football, and you're good enough at it, you can get paid a lot\n",
      "to play it. Of course the odds are against you in a case like football, because\n",
      "so many other people like playing it too. This is not to say you\n",
      "shouldn't try though. It depends how much ability you have and how\n",
      "hard you're willing to work. The odds are better when you have strange tastes: when you like\n",
      "something that pays well and that few other people like. For example,\n",
      "it's clear that Bill Gates truly loved running a software company.\n",
      "He didn't just love programming, which a lot of people do. He loved\n",
      "writing software for customers. That is a very strange taste indeed,\n",
      "but if you have it, you can make a lot by indulging it. There are even some people who have a genuine intellectual interest\n",
      "in making money. This is distinct from mere greed. They just can't\n",
      "help noticing when something is mispriced, and can't help doing\n",
      "something about it. It's like a puzzle for them. [ 1 ] In fact there's an edge case here so spectacular that it turns all\n",
      "the preceding advice on its head. If you want to make a really \n",
      "huge\n",
      "amount of money — hundreds of millions or even billions of dollars\n",
      "— it turns out to be very useful to work on what interests you the\n",
      "most. The reason is not the extra motivation you get from doing\n",
      "this, but that the way to make a really large amount of money is\n",
      "to start a startup, and working on what interests you is an excellent\n",
      "way to discover startup ideas . Many if not most of the biggest startups began as projects the\n",
      "founders were doing for fun. Apple, Google, and Facebook all began\n",
      "that way. Why is this pattern so common? Because the best ideas\n",
      "tend to be such outliers that you'd overlook them if you were\n",
      "consciously looking for ways to make money. Whereas if you're young\n",
      "and good at technology, your unconscious instincts about what would\n",
      "be interesting to work on are very well aligned with what needs to\n",
      "be built. So there's something like a midwit peak for making money. If you\n",
      "don't need to make much, you can work on whatever you're most\n",
      "interested in; if you want to become moderately rich, you can't\n",
      "usually afford to; but if you want to become super rich, and you're\n",
      "young and good at technology, working on what you're most interested\n",
      "in becomes a good idea again. What if you're not sure what you want? What if you're attracted to\n",
      "the idea of making money and more attracted to some kinds of work\n",
      "than others, but neither attraction predominates? How do you break\n",
      "ties? The key here is to understand that such ties are only apparent.\n",
      "When you have trouble choosing between following your interests and\n",
      "making money, it's never because you have complete knowledge of\n",
      "yourself and of the types of work you're choosing between, and the\n",
      "options are perfectly balanced. When you can't decide which path\n",
      "to take, it's almost always due to ignorance. In fact you're usually\n",
      "suffering from three kinds of ignorance simultaneously: you don't\n",
      "know what makes you happy, what the various kinds of work are really\n",
      "like, or how well you could do them. [ 2 ] In a way this ignorance is excusable. It's often hard to predict\n",
      "these things, and no one even tells you that you need to. If you're\n",
      "ambitious you're told you should go to college, and this is good\n",
      "advice so far as it goes, but that's where it usually ends. No one\n",
      "tells you how to figure out what to work on, or how hard this can\n",
      "be. What do you do in the face of uncertainty? Get more certainty. And\n",
      "probably the best way to do that is to try working on things you're\n",
      "interested in. That will get you more information about how interested\n",
      "you are in them, how good you are at them, and how much scope they\n",
      "offer for ambition. Don't wait. Don't wait till the end of college to figure out what\n",
      "to work on. Don't even wait for internships during college. You\n",
      "don't necessarily need a job doing x in order to work on x; often\n",
      "you can just start doing it in some form yourself. And since figuring\n",
      "out what to work on is a problem that could take years to solve,\n",
      "the sooner you start, the better. One useful trick for judging different kinds of work is to look at\n",
      "who your colleagues will be. You'll become like whoever you work\n",
      "with. Do you want to become like these people? Indeed, the difference in character between different kinds of work\n",
      "is magnified by the fact that everyone else is facing the same\n",
      "decisions as you. If you choose a kind of work mainly for how well\n",
      "it pays, you'll be surrounded by other people who chose it for the\n",
      "same reason, and that will make it even more soul-sucking than it\n",
      "seems from the outside. Whereas if you choose work you're genuinely\n",
      "interested in, you'll be surrounded mostly by other people who are\n",
      "genuinely interested in it, and that will make it extra inspiring. [ 3 ] The other thing you do in the face of uncertainty is to make choices\n",
      "that are uncertainty-proof. The less sure you are about what to do,\n",
      "the more important it is to choose options that give you more options\n",
      "in the future. I call this \"staying upwind.\" If you're unsure whether\n",
      "to major in math or economics, for example, choose math; math is\n",
      "upwind of economics in the sense that it will be easier to switch\n",
      "later from math to economics than from economics to math. There's one case, though, where it's easy to say whether you should\n",
      "work on what interests you the most: if you want to do great work .\n",
      "This is not a sufficient condition for doing great work, but it is\n",
      "a necessary one. There's a lot of selection bias in advice about whether to \"follow\n",
      "your passion,\" and this is the reason. Most such advice comes from\n",
      "people who are famously successful, and if you ask someone who's\n",
      "famously successful how to do what they did, most will tell you\n",
      "that you have to work on what you're most interested in. And this\n",
      "is in fact true. That doesn't mean it's the right advice for everyone. Not everyone\n",
      "can do great work, or wants to. But if you do want to, the complicated\n",
      "question of whether or not to work on what interests you the most\n",
      "becomes simple. The answer is yes. The root of great work is a sort\n",
      "of ambitious curiosity, and you can't manufacture that. Notes [ 1 ]\n",
      "These examples show why it's a mistake to assume that economic\n",
      "inequality must be evidence of some kind of brokenness or unfairness.\n",
      "It's obvious that different people have different interests, and\n",
      "that some interests yield far more money than others, so how can\n",
      "it not be obvious that some people will end up much richer than\n",
      "others? In a world where some people like to write enterprise\n",
      "software and others like to make studio pottery, economic inequality\n",
      "is the natural outcome. [ 2 ]\n",
      "Difficulty choosing between interests is a different matter.\n",
      "That's not always due to ignorance. It's often intrinsically\n",
      "difficult. I still have trouble doing it. [ 3 ]\n",
      "You can't always take people at their word on this. Since\n",
      "it's more prestigious to work on things you're interested in than\n",
      "to be driven by money, people who are driven mainly by money will\n",
      "often claim to be more interested in their work than they actually\n",
      "are. One way to test such claims is by doing the following thought\n",
      "experiment: if their work didn't pay well, would they take day jobs\n",
      "doing something else in order to do it in their spare time? Lots\n",
      "of mathematicians and scientists and engineers would. Historically\n",
      "lots have . But I don't think as many investment bankers would. This thought experiment is also useful for distinguishing between\n",
      "university departments. Thanks to Trevor Blackwell, Paul Buchheit, \n",
      "Jessica Livingston,\n",
      "Robert Morris, Harj Taggar, and Garry Tan for reading drafts of\n",
      "this.\n"
     ]
    }
   ],
   "source": [
    "print(data[0].page_content)"
   ]
  },
  {
   "cell_type": "code",
   "execution_count": null,
   "metadata": {},
   "outputs": [],
   "source": []
  }
 ],
 "metadata": {
  "kernelspec": {
   "display_name": "env",
   "language": "python",
   "name": "python3"
  },
  "language_info": {
   "codemirror_mode": {
    "name": "ipython",
    "version": 3
   },
   "file_extension": ".py",
   "mimetype": "text/x-python",
   "name": "python",
   "nbconvert_exporter": "python",
   "pygments_lexer": "ipython3",
   "version": "3.12.0"
  }
 },
 "nbformat": 4,
 "nbformat_minor": 2
}
