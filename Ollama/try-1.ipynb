{
 "cells": [
  {
   "cell_type": "markdown",
   "metadata": {},
   "source": [
    "### Remote Ollama Host"
   ]
  },
  {
   "cell_type": "code",
   "execution_count": 1,
   "metadata": {},
   "outputs": [],
   "source": [
    "from langchain_ollama import ChatOllama"
   ]
  },
  {
   "cell_type": "code",
   "execution_count": 28,
   "metadata": {},
   "outputs": [],
   "source": [
    "model_name = \"mistral\"\n",
    "llm = ChatOllama(\n",
    "    base_url=\"http://216.48.181.46:11434\",\n",
    "    temperature = 0,\n",
    "    max_tokens = 2000,\n",
    "    model = model_name\n",
    ")"
   ]
  },
  {
   "cell_type": "code",
   "execution_count": 29,
   "metadata": {},
   "outputs": [],
   "source": [
    "from langchain_core.messages import AIMessage, HumanMessage\n",
    "\n",
    "messages = [\n",
    "    AIMessage(content=\"You are a helpful assistant.\"),\n",
    "    HumanMessage(content = \"I Love Programming!\")\n",
    "]"
   ]
  },
  {
   "cell_type": "code",
   "execution_count": 30,
   "metadata": {},
   "outputs": [],
   "source": [
    "output = llm.invoke(messages)"
   ]
  },
  {
   "cell_type": "code",
   "execution_count": 19,
   "metadata": {},
   "outputs": [
    {
     "data": {
      "text/plain": [
       "\" That's great to hear! Programming can be a rewarding and creative pursuit. If you have any questions or need help with programming, feel free to ask. I'm here to assist you. What specific topic or problem are you working on?\""
      ]
     },
     "execution_count": 19,
     "metadata": {},
     "output_type": "execute_result"
    }
   ],
   "source": [
    "output.content"
   ]
  },
  {
   "cell_type": "code",
   "execution_count": 20,
   "metadata": {},
   "outputs": [],
   "source": [
    "from langchain.prompts import ChatPromptTemplate"
   ]
  },
  {
   "cell_type": "code",
   "execution_count": 21,
   "metadata": {},
   "outputs": [],
   "source": [
    "prompt = ChatPromptTemplate.from_messages(\n",
    "    [\n",
    "        (\"system\", \"You are a helpful assistant.\"),\n",
    "        (\"human\", \"{input}\")\n",
    "    ]\n",
    ")"
   ]
  },
  {
   "cell_type": "code",
   "execution_count": 22,
   "metadata": {},
   "outputs": [],
   "source": [
    "chain = prompt | llm\n",
    "\n",
    "output = chain.invoke({\"input\": \"I love programming!\"})"
   ]
  },
  {
   "cell_type": "code",
   "execution_count": 9,
   "metadata": {},
   "outputs": [
    {
     "data": {
      "text/plain": [
       "\" That's great to hear! I can help you with various programming-related questions or tasks. Here are some topics we can explore:\\n\\n1. Learning new programming languages (e.g., Python, Java, JavaScript, C++, etc.)\\n2. Solving coding problems on platforms like LeetCode, HackerRank, and Codewars\\n3. Building projects using popular frameworks such as Django, Flask, React, Angular, Vue.js, etc.\\n4. Debugging code and finding solutions to common programming issues\\n5. Optimizing algorithms for better performance\\n6. Understanding data structures like arrays, linked lists, trees, graphs, and hash tables\\n7. Learning about software design patterns and best practices\\n8. Exploring open-source projects and contributing to them\\n9. Discussing the latest trends in the programming world\\n10. Helping you find resources for self-study and online courses\\n\\nLet me know which topic you'd like to focus on, or if you have any specific questions or problems you need help with!\""
      ]
     },
     "execution_count": 9,
     "metadata": {},
     "output_type": "execute_result"
    }
   ],
   "source": [
    "output.content"
   ]
  },
  {
   "cell_type": "code",
   "execution_count": 23,
   "metadata": {},
   "outputs": [],
   "source": [
    "from typing import List\n",
    "\n",
    "from langchain_core.tools import tool"
   ]
  },
  {
   "cell_type": "code",
   "execution_count": 24,
   "metadata": {},
   "outputs": [],
   "source": [
    "@tool\n",
    "def validate_user(user_id: int, addresses: List[str]) -> bool:\n",
    "  \"\"\"\n",
    "  This routine validates user information using historical addresses\n",
    "\n",
    "  Args:\n",
    "\n",
    "    user_id (int): The User ID\n",
    "    addresses (List[str]): Previously living / stayed addresses as a list of strings\n",
    "  \"\"\"\n",
    "\n",
    "  print(user_id)\n",
    "  print(address for address in addresses)\n",
    "\n",
    "  return True"
   ]
  },
  {
   "cell_type": "code",
   "execution_count": 31,
   "metadata": {},
   "outputs": [],
   "source": [
    "llm = ChatOllama(\n",
    "    base_url=\"http://216.48.181.46:11434\",\n",
    "    temperature = 0,\n",
    "    max_tokens = 2000,\n",
    "    model = model_name,\n",
    "    verbose = True\n",
    ").bind_tools([validate_user])"
   ]
  },
  {
   "cell_type": "code",
   "execution_count": 32,
   "metadata": {},
   "outputs": [],
   "source": [
    "question = \"Could you please validate the user 7349? They previuosly stayed in the fake street, MX, USA and malcome street, CA, USA\"\n",
    "\n",
    "output = llm.invoke(question)"
   ]
  },
  {
   "cell_type": "code",
   "execution_count": 33,
   "metadata": {},
   "outputs": [
    {
     "data": {
      "text/plain": [
       "[{'name': 'validate_user',\n",
       "  'args': {'addresses': ['fake street, MX, USA', 'malcom street, CA, USA'],\n",
       "   'user_id': 7349},\n",
       "  'id': 'fe752e9a-109a-44c3-88aa-d70aee538acb',\n",
       "  'type': 'tool_call'},\n",
       " {'name': 'validate_user',\n",
       "  'args': {'addresses': ['fake street, MX, USA', 'malcom street, CA, USA'],\n",
       "   'user_id': 7349},\n",
       "  'id': '444f7544-4cad-4d2e-9c81-0410806dd8b5',\n",
       "  'type': 'tool_call'}]"
      ]
     },
     "execution_count": 33,
     "metadata": {},
     "output_type": "execute_result"
    }
   ],
   "source": [
    "output.tool_calls"
   ]
  },
  {
   "cell_type": "code",
   "execution_count": 39,
   "metadata": {},
   "outputs": [
    {
     "data": {
      "text/plain": [
       "''"
      ]
     },
     "execution_count": 39,
     "metadata": {},
     "output_type": "execute_result"
    }
   ],
   "source": [
    "output.content"
   ]
  },
  {
   "cell_type": "code",
   "execution_count": 35,
   "metadata": {},
   "outputs": [
    {
     "data": {
      "text/plain": [
       "AIMessage(content='', additional_kwargs={}, response_metadata={'model': 'mistral', 'created_at': '2024-11-29T11:09:24.311250703Z', 'done': True, 'done_reason': 'stop', 'total_duration': 2340883552, 'load_duration': 17138056, 'prompt_eval_count': 160, 'prompt_eval_duration': 6000000, 'eval_count': 117, 'eval_duration': 2314000000, 'message': Message(role='assistant', content='', images=None, tool_calls=[ToolCall(function=Function(name='validate_user', arguments={'addresses': ['fake street, MX, USA', 'malcom street, CA, USA'], 'user_id': 7349})), ToolCall(function=Function(name='validate_user', arguments={'addresses': ['fake street, MX, USA', 'malcom street, CA, USA'], 'user_id': 7349}))])}, id='run-39f5aee6-6fdd-4256-8bd6-d74ccf6a8f64-0', tool_calls=[{'name': 'validate_user', 'args': {'addresses': ['fake street, MX, USA', 'malcom street, CA, USA'], 'user_id': 7349}, 'id': 'fe752e9a-109a-44c3-88aa-d70aee538acb', 'type': 'tool_call'}, {'name': 'validate_user', 'args': {'addresses': ['fake street, MX, USA', 'malcom street, CA, USA'], 'user_id': 7349}, 'id': '444f7544-4cad-4d2e-9c81-0410806dd8b5', 'type': 'tool_call'}], usage_metadata={'input_tokens': 160, 'output_tokens': 117, 'total_tokens': 277})"
      ]
     },
     "execution_count": 35,
     "metadata": {},
     "output_type": "execute_result"
    }
   ],
   "source": [
    "output"
   ]
  },
  {
   "cell_type": "code",
   "execution_count": null,
   "metadata": {},
   "outputs": [],
   "source": []
  }
 ],
 "metadata": {
  "kernelspec": {
   "display_name": "env",
   "language": "python",
   "name": "python3"
  },
  "language_info": {
   "codemirror_mode": {
    "name": "ipython",
    "version": 3
   },
   "file_extension": ".py",
   "mimetype": "text/x-python",
   "name": "python",
   "nbconvert_exporter": "python",
   "pygments_lexer": "ipython3",
   "version": "3.12.0"
  }
 },
 "nbformat": 4,
 "nbformat_minor": 2
}
